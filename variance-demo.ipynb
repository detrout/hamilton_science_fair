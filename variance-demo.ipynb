{
 "cells": [
  {
   "cell_type": "markdown",
   "id": "monetary-convergence",
   "metadata": {},
   "source": [
    "# Introduction"
   ]
  },
  {
   "cell_type": "markdown",
   "id": "average-lingerie",
   "metadata": {},
   "source": [
    "I wanted to try and explain why need both averages and something to measure variance to kids."
   ]
  },
  {
   "cell_type": "code",
   "execution_count": 1,
   "id": "valuable-breathing",
   "metadata": {},
   "outputs": [],
   "source": [
    "import random\n",
    "from matplotlib import pyplot\n",
    "import seaborn\n",
    "import pandas\n",
    "import numpy"
   ]
  },
  {
   "cell_type": "markdown",
   "id": "manual-soccer",
   "metadata": {},
   "source": [
    "Imagine a normal 6 sided die."
   ]
  },
  {
   "cell_type": "code",
   "execution_count": 2,
   "id": "cutting-builder",
   "metadata": {},
   "outputs": [],
   "source": [
    "die = [1, 2, 3, 4, 5, 6]"
   ]
  },
  {
   "cell_type": "markdown",
   "id": "stainless-music",
   "metadata": {},
   "source": [
    "If we only roll it a few times you can get pretty biased results."
   ]
  },
  {
   "cell_type": "code",
   "execution_count": 3,
   "id": "editorial-advantage",
   "metadata": {},
   "outputs": [
    {
     "name": "stdout",
     "output_type": "stream",
     "text": [
      "[3, 4, 1]\n",
      "Mean 2.6666666666666665\n"
     ]
    },
    {
     "data": {
      "image/png": "[encoded data removed]",
      "text/plain": [
       "<Figure size 432x288 with 1 Axes>"
      ]
     },
     "metadata": {
      "needs_background": "light"
     },
     "output_type": "display_data"
    }
   ],
   "source": [
    "rolls = []\n",
    "while len(rolls) < 3:\n",
    "    rolls.append(random.choice(die))\n",
    "\n",
    "print(rolls)\n",
    "_ = seaborn.histplot(rolls, stat=\"count\", discrete=True)\n",
    "print(\"Mean\", sum(rolls)/len(rolls))"
   ]
  },
  {
   "cell_type": "markdown",
   "id": "paperback-registrar",
   "metadata": {},
   "source": [
    "But as you roll more often, here 100 times. You can start to see how the odds of getting any particular number tends toward being equal.\n",
    "\n",
    "And you can start to see how the average of the rolls is \n",
    "\n",
    "$\\frac{1 + 6}{2} = \\frac{7}{2} = 3 \\frac{1}{2}$"
   ]
  },
  {
   "cell_type": "code",
   "execution_count": 4,
   "id": "gothic-singles",
   "metadata": {},
   "outputs": [
    {
     "name": "stdout",
     "output_type": "stream",
     "text": [
      "Mean 3.62\n"
     ]
    },
    {
     "data": {
      "image/png": "[encoded data removed]",
      "text/plain": [
       "<Figure size 432x288 with 1 Axes>"
      ]
     },
     "metadata": {
      "needs_background": "light"
     },
     "output_type": "display_data"
    }
   ],
   "source": [
    "rolls = []\n",
    "while len(rolls) < 100:\n",
    "    rolls.append(random.choice(die))\n",
    "\n",
    "_ = seaborn.histplot(rolls, stat=\"count\", discrete=True)\n",
    "print(\"Mean\", sum(rolls)/len(rolls))"
   ]
  },
  {
   "cell_type": "markdown",
   "id": "different-estonia",
   "metadata": {},
   "source": [
    "If we go up to 10,000 rolls, it's getting very evenly distributed."
   ]
  },
  {
   "cell_type": "code",
   "execution_count": 5,
   "id": "economic-delight",
   "metadata": {},
   "outputs": [
    {
     "name": "stdout",
     "output_type": "stream",
     "text": [
      "Mean 3.498\n"
     ]
    },
    {
     "data": {
      "image/png": "[encoded data removed]",
      "text/plain": [
       "<Figure size 432x288 with 1 Axes>"
      ]
     },
     "metadata": {
      "needs_background": "light"
     },
     "output_type": "display_data"
    }
   ],
   "source": [
    "rolls = []\n",
    "while len(rolls) < 10000:\n",
    "    rolls.append(random.choice(die))\n",
    "\n",
    "_ = seaborn.histplot(rolls, stat=\"count\", discrete=True)\n",
    "print(\"Mean\", sum(rolls)/len(rolls))"
   ]
  },
  {
   "cell_type": "markdown",
   "id": "universal-video",
   "metadata": {},
   "source": []
  },
  {
   "cell_type": "markdown",
   "id": "matched-campbell",
   "metadata": {},
   "source": [
    "But what if the die doesn't have an equal chance to for each number?\n",
    "\n",
    "Let's try a more extreme die that only has 1s and 6s on it."
   ]
  },
  {
   "cell_type": "code",
   "execution_count": 6,
   "id": "floppy-depression",
   "metadata": {},
   "outputs": [],
   "source": [
    "die_extreme = [1,1,1,6,6,6]"
   ]
  },
  {
   "cell_type": "code",
   "execution_count": 7,
   "id": "expected-spain",
   "metadata": {},
   "outputs": [
    {
     "name": "stdout",
     "output_type": "stream",
     "text": [
      "Mean 3.543\n"
     ]
    },
    {
     "data": {
      "image/png": "[encoded data removed]",
      "text/plain": [
       "<Figure size 432x288 with 1 Axes>"
      ]
     },
     "metadata": {
      "needs_background": "light"
     },
     "output_type": "display_data"
    }
   ],
   "source": [
    "rolls_extreme = []\n",
    "while len(rolls_extreme) < 10000:\n",
    "    rolls_extreme.append(random.choice(die_extreme))\n",
    "\n",
    "_ = seaborn.histplot(rolls_extreme, stat=\"count\", discrete=True)\n",
    "print(\"Mean\", sum(rolls_extreme)/len(rolls_extreme))"
   ]
  },
  {
   "cell_type": "markdown",
   "id": "rubber-killer",
   "metadata": {},
   "source": [
    "Here you can see the range of values is much more extreme than the die with all the numbers 1 through 6. Now lets try a much more narrow case."
   ]
  },
  {
   "cell_type": "code",
   "execution_count": 8,
   "id": "accessory-alfred",
   "metadata": {},
   "outputs": [
    {
     "name": "stdout",
     "output_type": "stream",
     "text": [
      "Mean 3.5067\n"
     ]
    },
    {
     "data": {
      "image/png": "[encoded data removed]",
      "text/plain": [
       "<Figure size 432x288 with 1 Axes>"
      ]
     },
     "metadata": {
      "needs_background": "light"
     },
     "output_type": "display_data"
    }
   ],
   "source": [
    "die_narrow = [3,3,3,4,4,4]\n",
    "\n",
    "rolls_narrow = []\n",
    "while len(rolls_narrow) < 10000:\n",
    "    rolls_narrow.append(random.choice(die_narrow))\n",
    "\n",
    "ax = seaborn.histplot(rolls_narrow, stat=\"count\", discrete=True)\n",
    "ax.set_xlim(0.5,6.5)\n",
    "print(\"Mean\", sum(rolls_narrow)/len(rolls_narrow))"
   ]
  },
  {
   "cell_type": "markdown",
   "id": "latter-equality",
   "metadata": {},
   "source": [
    "In every case rolling each one of these dies thousands of times gives the same average of about 3 $\\frac{1}{2}$  (3.5 = 3 $\\frac{5}{10}$ = 3 $\\frac{1}{2}$)\n",
    "\n",
    "But their variance is different, using a standard deviation calculation. (numpy.std calculates the standard deviation, and numpy.round is rounding to make the numbers look easier to read.)"
   ]
  },
  {
   "cell_type": "code",
   "execution_count": 9,
   "id": "operating-bread",
   "metadata": {},
   "outputs": [
    {
     "name": "stdout",
     "output_type": "stream",
     "text": [
      "fair die mean 3.498 standard deviation 1.71\n",
      "extreme die mean 3.543 standard deviation 2.5\n",
      "narrow die mean 3.5067 standard deviation 0.5\n"
     ]
    }
   ],
   "source": [
    "print(\"fair die mean\", numpy.mean(rolls), \"standard deviation\", numpy.round(numpy.std(rolls), 2))\n",
    "print(\"extreme die mean\", numpy.mean(rolls_extreme), \"standard deviation\", numpy.round(numpy.std(rolls_extreme), 2))\n",
    "print(\"narrow die mean\", numpy.mean(rolls_narrow), \"standard deviation\", numpy.round(numpy.std(rolls_narrow), 2))"
   ]
  },
  {
   "cell_type": "markdown",
   "id": "rocky-reflection",
   "metadata": {},
   "source": [
    "You can see how the mean for all 3 dies is about the same, but the standard deviations are quite different for each die."
   ]
  },
  {
   "cell_type": "code",
   "execution_count": null,
   "id": "nonprofit-ghost",
   "metadata": {},
   "outputs": [],
   "source": []
  }
 ],
 "metadata": {
  "kernelspec": {
   "display_name": "Python 3",
   "language": "python",
   "name": "python3"
  },
  "language_info": {
   "codemirror_mode": {
    "name": "ipython",
    "version": 3
   },
   "file_extension": ".py",
   "mimetype": "text/x-python",
   "name": "python",
   "nbconvert_exporter": "python",
   "pygments_lexer": "ipython3",
   "version": "3.9.2"
  }
 },
 "nbformat": 4,
 "nbformat_minor": 5
}
